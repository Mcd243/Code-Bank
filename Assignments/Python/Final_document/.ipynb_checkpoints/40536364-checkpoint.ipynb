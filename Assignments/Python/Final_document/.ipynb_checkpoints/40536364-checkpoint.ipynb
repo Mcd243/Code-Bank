{
 "cells": [
  {
   "cell_type": "code",
   "execution_count": 21,
   "id": "2b8fc770-5f65-47a8-9300-3d542bd9f867",
   "metadata": {},
   "outputs": [
    {
     "name": "stdout",
     "output_type": "stream",
     "text": [
      "************* Module pcap_analyser\n",
      "pcap_analyser.py:63:89: C0303: Trailing whitespace (trailing-whitespace)\n",
      "pcap_analyser.py:18:0: C0103: Constant name \"n\" doesn't conform to UPPER_CASE naming style (invalid-name)\n",
      "pcap_analyser.py:50:11: W0703: Catching too general exception Exception (broad-except)\n",
      "pcap_analyser.py:59:7: W0703: Catching too general exception Exception (broad-except)\n",
      "pcap_analyser.py:69:7: W0703: Catching too general exception Exception (broad-except)\n",
      "pcap_analyser.py:72:0: C0103: Constant name \"n\" doesn't conform to UPPER_CASE naming style (invalid-name)\n",
      "pcap_analyser.py:102:11: W0703: Catching too general exception Exception (broad-except)\n",
      "pcap_analyser.py:109:7: W0703: Catching too general exception Exception (broad-except)\n",
      "\n",
      "------------------------------------------------------------------\n",
      "\n",
      "Your code has been rated at 9.10/10 (previous run: 8.54/10, +0.56)\n",
      "\n",
      "\n",
      "\n"
     ]
    }
   ],
   "source": [
    "!pylint pcap_analyser.py"
   ]
  },
  {
   "cell_type": "code",
   "execution_count": 25,
   "id": "73d719a2-96ae-4475-bfd0-53b364aeaf55",
   "metadata": {},
   "outputs": [
    {
     "name": "stdout",
     "output_type": "stream",
     "text": [
      "************* Module pcap_location\n",
      "pcap_location.py:55:71: C0303: Trailing whitespace (trailing-whitespace)\n",
      "pcap_location.py:58:15: W0703: Catching too general exception Exception (broad-except)\n",
      "pcap_location.py:99:11: W0703: Catching too general exception Exception (broad-except)\n",
      "pcap_location.py:104:4: E1120: No value for argument 'db_file' in function call (no-value-for-parameter)\n",
      "pcap_location.py:104:4: E1120: No value for argument 'ip_add' in function call (no-value-for-parameter)\n",
      "\n",
      "------------------------------------------------------------------\n",
      "\n",
      "Your code has been rated at 7.94/10 (previous run: 7.46/10, +0.48)\n",
      "\n",
      "\n",
      "\n"
     ]
    }
   ],
   "source": [
    "!pylint pcap_location.py"
   ]
  },
  {
   "cell_type": "code",
   "execution_count": 32,
   "id": "459bdb54-c47a-4c68-a218-148667d1b007",
   "metadata": {},
   "outputs": [
    {
     "name": "stdout",
     "output_type": "stream",
     "text": [
      "************* Module OneDrive\n",
      "OneDrive:1:0: F0001: No module named OneDrive (fatal)\n",
      "************* Module parse_pcap\n",
      "parse_pcap.py:11:0: R0914: Too many local variables (19/15) (too-many-locals)\n",
      "parse_pcap.py:130:11: W0703: Catching too general exception Exception (broad-except)\n",
      "parse_pcap.py:107:0: R1710: Either all return statements in a function should return an expression, or none of them should. (inconsistent-return-statements)\n",
      "parse_pcap.py:135:4: E1120: No value for argument 'pcap_file' in function call (no-value-for-parameter)\n",
      "\n",
      "------------------------------------------------------------------\n",
      "\n",
      "Your code has been rated at 8.60/10 (previous run: 6.84/10, +1.75)\n",
      "\n",
      "\n",
      "\n"
     ]
    }
   ],
   "source": [
    "!pylint OneDrive parse_pcap.py"
   ]
  },
  {
   "cell_type": "code",
   "execution_count": 30,
   "id": "0df868ea-d7d6-4c0a-b585-3ecae579631a",
   "metadata": {},
   "outputs": [
    {
     "name": "stdout",
     "output_type": "stream",
     "text": [
      "************* Module pcap_search\n",
      "pcap_search.py:56:11: W0703: Catching too general exception Exception (broad-except)\n",
      "pcap_search.py:51:0: R1710: Either all return statements in a function should return an expression, or none of them should. (inconsistent-return-statements)\n",
      "pcap_search.py:65:4: R1705: Unnecessary \"else\" after \"return\" (no-else-return)\n",
      "pcap_search.py:60:0: R1710: Either all return statements in a function should return an expression, or none of them should. (inconsistent-return-statements)\n",
      "pcap_search.py:97:11: W0703: Catching too general exception Exception (broad-except)\n",
      "pcap_search.py:102:4: E1120: No value for argument 'packet_data' in function call (no-value-for-parameter)\n",
      "\n",
      "------------------------------------------------------------------\n",
      "\n",
      "Your code has been rated at 8.33/10 (previous run: 8.33/10, +0.00)\n",
      "\n",
      "\n",
      "\n"
     ]
    }
   ],
   "source": [
    "!pylint pcap_search.py"
   ]
  },
  {
   "cell_type": "code",
   "execution_count": 34,
   "id": "f9b8e6ee-1eaa-4ab3-8872-b8dfba619d69",
   "metadata": {},
   "outputs": [
    {
     "name": "stdout",
     "output_type": "stream",
     "text": [
      "************* Module pcap_stats\n",
      "pcap_stats.py:73:11: W0703: Catching too general exception Exception (broad-except)\n",
      "pcap_stats.py:55:0: R1710: Either all return statements in a function should return an expression, or none of them should. (inconsistent-return-statements)\n",
      "pcap_stats.py:78:4: E1120: No value for argument 'timestamps' in function call (no-value-for-parameter)\n",
      "pcap_stats.py:8:0: C0411: standard import \"from datetime import datetime\" should be placed before \"import matplotlib.pyplot as plt\" (wrong-import-order)\n",
      "\n",
      "------------------------------------------------------------------\n",
      "\n",
      "Your code has been rated at 8.33/10 (previous run: 8.12/10, +0.21)\n",
      "\n",
      "\n",
      "\n"
     ]
    }
   ],
   "source": [
    "!pylint pcap_stats.py"
   ]
  },
  {
   "cell_type": "code",
   "execution_count": 38,
   "id": "68d7f67b-7727-4b2b-b343-fe24b40788ac",
   "metadata": {},
   "outputs": [
    {
     "name": "stdout",
     "output_type": "stream",
     "text": [
      "************* Module pcap_summary\n",
      "pcap_summary.py:22:11: W0703: Catching too general exception Exception (broad-except)\n",
      "pcap_summary.py:11:0: R1710: Either all return statements in a function should return an expression, or none of them should. (inconsistent-return-statements)\n",
      "pcap_summary.py:40:11: W0703: Catching too general exception Exception (broad-except)\n",
      "pcap_summary.py:27:0: R1710: Either all return statements in a function should return an expression, or none of them should. (inconsistent-return-statements)\n",
      "pcap_summary.py:63:11: W0703: Catching too general exception Exception (broad-except)\n",
      "pcap_summary.py:44:0: R1710: Either all return statements in a function should return an expression, or none of them should. (inconsistent-return-statements)\n",
      "pcap_summary.py:68:4: E1120: No value for argument 'summary_data' in function call (no-value-for-parameter)\n",
      "\n",
      "------------------------------------------------------------------\n",
      "\n",
      "Your code has been rated at 7.03/10 (previous run: 6.76/10, +0.27)\n",
      "\n",
      "\n",
      "\n"
     ]
    }
   ],
   "source": [
    "!pylint pcap_summary.py"
   ]
  },
  {
   "cell_type": "code",
   "execution_count": 39,
   "id": "008cd641-a46f-4c85-ae9d-4bf60b7c7b54",
   "metadata": {},
   "outputs": [
    {
     "name": "stdout",
     "output_type": "stream",
     "text": [
      "pcap_analyser.py:31:80: E501 line too long (97 > 79 characters)\n",
      "pcap_analyser.py:39:80: E501 line too long (96 > 79 characters)\n",
      "pcap_analyser.py:40:80: E501 line too long (85 > 79 characters)\n",
      "pcap_analyser.py:46:80: E501 line too long (94 > 79 characters)\n",
      "pcap_analyser.py:49:80: E501 line too long (86 > 79 characters)\n",
      "pcap_analyser.py:51:80: E501 line too long (82 > 79 characters)\n",
      "pcap_analyser.py:58:80: E501 line too long (82 > 79 characters)\n",
      "pcap_analyser.py:61:80: E501 line too long (94 > 79 characters)\n",
      "pcap_analyser.py:63:80: E501 line too long (89 > 79 characters)\n",
      "pcap_analyser.py:63:90: W291 trailing whitespace\n",
      "pcap_analyser.py:68:80: E501 line too long (82 > 79 characters)\n",
      "pcap_analyser.py:75:80: E501 line too long (80 > 79 characters)\n",
      "pcap_analyser.py:84:80: E501 line too long (99 > 79 characters)\n",
      "pcap_analyser.py:89:80: E501 line too long (91 > 79 characters)\n",
      "pcap_analyser.py:96:80: E501 line too long (91 > 79 characters)\n",
      "pcap_analyser.py:98:80: E501 line too long (94 > 79 characters)\n",
      "pcap_analyser.py:101:80: E501 line too long (86 > 79 characters)\n",
      "pcap_analyser.py:103:80: E501 line too long (82 > 79 characters)\n",
      "pcap_analyser.py:108:80: E501 line too long (82 > 79 characters)\n",
      "pcap_analyser.py:112:80: E501 line too long (90 > 79 characters)\n"
     ]
    }
   ],
   "source": [
    "!pycodestyle pcap_analyser.py\n"
   ]
  },
  {
   "cell_type": "code",
   "execution_count": 40,
   "id": "3c66b129-0388-4664-9183-ba0745eb021e",
   "metadata": {},
   "outputs": [
    {
     "name": "stdout",
     "output_type": "stream",
     "text": [
      "pcap_location.py:14:80: E501 line too long (83 > 79 characters)\n",
      "pcap_location.py:54:80: E501 line too long (92 > 79 characters)\n",
      "pcap_location.py:55:72: W291 trailing whitespace\n",
      "pcap_location.py:66:80: E501 line too long (83 > 79 characters)\n",
      "pcap_location.py:77:80: E501 line too long (82 > 79 characters)\n",
      "pcap_location.py:81:80: E501 line too long (82 > 79 characters)\n",
      "pcap_location.py:92:80: E501 line too long (86 > 79 characters)\n",
      "pcap_location.py:94:80: E501 line too long (94 > 79 characters)\n",
      "pcap_location.py:96:80: E501 line too long (99 > 79 characters)\n",
      "pcap_location.py:98:80: E501 line too long (96 > 79 characters)\n",
      "pcap_location.py:100:80: E501 line too long (82 > 79 characters)\n"
     ]
    }
   ],
   "source": [
    "!pycodestyle pcap_location.py\n"
   ]
  },
  {
   "cell_type": "code",
   "execution_count": 41,
   "id": "fc55d7d3-8c20-4bcc-acdc-68dcb32db19d",
   "metadata": {},
   "outputs": [
    {
     "name": "stdout",
     "output_type": "stream",
     "text": [
      "parse_pcap.py:27:80: E501 line too long (88 > 79 characters)\n",
      "parse_pcap.py:29:80: E501 line too long (89 > 79 characters)\n",
      "parse_pcap.py:31:80: E501 line too long (88 > 79 characters)\n",
      "parse_pcap.py:33:80: E501 line too long (91 > 79 characters)\n",
      "parse_pcap.py:35:80: E501 line too long (90 > 79 characters)\n",
      "parse_pcap.py:37:80: E501 line too long (93 > 79 characters)\n",
      "parse_pcap.py:39:80: E501 line too long (92 > 79 characters)\n",
      "parse_pcap.py:41:80: E501 line too long (91 > 79 characters)\n",
      "parse_pcap.py:43:80: E501 line too long (83 > 79 characters)\n",
      "parse_pcap.py:45:80: E501 line too long (87 > 79 characters)\n",
      "parse_pcap.py:47:80: E501 line too long (87 > 79 characters)\n",
      "parse_pcap.py:49:80: E501 line too long (94 > 79 characters)\n",
      "parse_pcap.py:51:80: E501 line too long (88 > 79 characters)\n",
      "parse_pcap.py:53:80: E501 line too long (87 > 79 characters)\n",
      "parse_pcap.py:54:80: E501 line too long (96 > 79 characters)\n",
      "parse_pcap.py:56:80: E501 line too long (92 > 79 characters)\n",
      "parse_pcap.py:63:80: E501 line too long (81 > 79 characters)\n",
      "parse_pcap.py:67:80: E501 line too long (80 > 79 characters)\n",
      "parse_pcap.py:86:80: E501 line too long (87 > 79 characters)\n",
      "parse_pcap.py:95:80: E501 line too long (90 > 79 characters)\n",
      "parse_pcap.py:108:80: E501 line too long (80 > 79 characters)\n",
      "parse_pcap.py:113:80: E501 line too long (87 > 79 characters)\n",
      "parse_pcap.py:124:80: E501 line too long (86 > 79 characters)\n",
      "parse_pcap.py:126:80: E501 line too long (88 > 79 characters)\n",
      "parse_pcap.py:129:80: E501 line too long (96 > 79 characters)\n",
      "parse_pcap.py:131:80: E501 line too long (82 > 79 characters)\n"
     ]
    }
   ],
   "source": [
    "!pycodestyle parse_pcap.py\n"
   ]
  },
  {
   "cell_type": "code",
   "execution_count": 42,
   "id": "ba82f365-1892-45da-8fe0-d14cfb4ca8e7",
   "metadata": {},
   "outputs": [
    {
     "name": "stdout",
     "output_type": "stream",
     "text": [
      "pcap_search.py:16:80: E501 line too long (80 > 79 characters)\n",
      "pcap_search.py:27:80: E501 line too long (92 > 79 characters)\n",
      "pcap_search.py:54:80: E501 line too long (88 > 79 characters)\n",
      "pcap_search.py:82:80: E501 line too long (83 > 79 characters)\n",
      "pcap_search.py:86:80: E501 line too long (84 > 79 characters)\n",
      "pcap_search.py:94:80: E501 line too long (86 > 79 characters)\n",
      "pcap_search.py:96:80: E501 line too long (96 > 79 characters)\n",
      "pcap_search.py:98:80: E501 line too long (82 > 79 characters)\n"
     ]
    }
   ],
   "source": [
    "!pycodestyle pcap_search.py"
   ]
  },
  {
   "cell_type": "code",
   "execution_count": 43,
   "id": "32d08bca-412a-491e-b293-094bff242b1b",
   "metadata": {},
   "outputs": [
    {
     "name": "stdout",
     "output_type": "stream",
     "text": [
      "pcap_stats.py:70:80: E501 line too long (86 > 79 characters)\n",
      "pcap_stats.py:72:80: E501 line too long (96 > 79 characters)\n",
      "pcap_stats.py:74:80: E501 line too long (82 > 79 characters)\n"
     ]
    }
   ],
   "source": [
    "!pycodestyle pcap_stats.py\n"
   ]
  },
  {
   "cell_type": "code",
   "execution_count": 44,
   "id": "2ebe430c-d78d-4d09-824e-1c40287ccf45",
   "metadata": {},
   "outputs": [
    {
     "name": "stdout",
     "output_type": "stream",
     "text": [
      "pcap_summary.py:41:80: E501 line too long (82 > 79 characters)\n",
      "pcap_summary.py:51:80: E501 line too long (82 > 79 characters)\n",
      "pcap_summary.py:55:80: E501 line too long (82 > 79 characters)\n",
      "pcap_summary.py:60:80: E501 line too long (86 > 79 characters)\n",
      "pcap_summary.py:62:80: E501 line too long (96 > 79 characters)\n",
      "pcap_summary.py:64:80: E501 line too long (82 > 79 characters)\n"
     ]
    }
   ],
   "source": [
    "!pycodestyle pcap_summary.py"
   ]
  },
  {
   "cell_type": "code",
   "execution_count": 50,
   "id": "ce4749d7-c7e2-4022-959d-c0521e346f52",
   "metadata": {},
   "outputs": [],
   "source": [
    "!python pyan-master\\pyan.py pcap_analyser.py --no-defines --colored --grouped --dot >mygraph.dot"
   ]
  },
  {
   "cell_type": "code",
   "execution_count": 53,
   "id": "dd5fe088-36a1-4abf-b425-15ebb289219f",
   "metadata": {},
   "outputs": [],
   "source": [
    "!dot -Tpng mygraph.dot -o mygraph.png"
   ]
  },
  {
   "cell_type": "code",
   "execution_count": null,
   "id": "465d8d9c-d41f-405b-8480-5b1c664bb9e0",
   "metadata": {},
   "outputs": [],
   "source": []
  }
 ],
 "metadata": {
  "kernelspec": {
   "display_name": "Python 3",
   "language": "python",
   "name": "python3"
  },
  "language_info": {
   "codemirror_mode": {
    "name": "ipython",
    "version": 3
   },
   "file_extension": ".py",
   "mimetype": "text/x-python",
   "name": "python",
   "nbconvert_exporter": "python",
   "pygments_lexer": "ipython3",
   "version": "3.8.8"
  }
 },
 "nbformat": 4,
 "nbformat_minor": 5
}
